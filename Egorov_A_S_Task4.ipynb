{
  "cells": [
    {
      "cell_type": "markdown",
      "metadata": {
        "id": "uCuBCPSB-C82"
      },
      "source": [
        "# Анализ и обработка результатов\n",
        "\n",
        "В анализе данных важно наглядное представление результатов, чтобы их мог оценить заказчик. Это бизнес, где на кону громадный трафик, серверные мощности, личное время многотысячной аудитории. И одновременно это исследование.\n",
        "\n",
        "Как в настоящей экспериментальной науке, ответ непредсказуем. Его точность зависит от умелого владения статистическими методами и от качества исходных данных. Перед тем, как начинать считать, проверьте, грамотно ли ваши данные подготовлены.\n",
        "\n",
        "# Группировка данных\n",
        "\n",
        "Слово «анализ» означает разбор, рассмотрение с разных сторон. Анализ данных начинают с разделения их на группы по какому-нибудь признаку. Эта операция называется группировка данных. Она помогает изучить материал более подробно, чтобы затем перейти к поиску взаимосвязей между отдельными группами.\n",
        "\n",
        "\n",
        "Группировка оправданна, если данные чётко делятся по значимому признаку, а полученные группы близки к теме задачи. Например, когда есть данные обо всех покупках в супермаркете, можно смело заниматься группировкой. Так можно установить время наплыва покупателей и решить проблему пиковых нагрузок. Или посчитать средний чек — обычно для магазинов это ключевая метрика.\n",
        "\n",
        "\n",
        "Стадии группировки хорошо укладываются в словесную формулу **split-apply-combine**:\n",
        "\n",
        "•\tразделить, **split** — разбиение на группы по определённому критерию;\n",
        "\n",
        "•\tприменить, **apply** — применение какого-либо метода к каждой группе в отдельности, например, подсчёт численности группы методом count() или суммирование вызовом sum();\n",
        "\n",
        "•\tобъединить, **combine** — сведение результатов в новую структуру данных, в зависимости от условий разделения и выполнения метода это бывает DataFrame и Series.\n",
        "\n",
        "На картинке изображен принцип **split-apply-combine** для таблицы с экзопланетами. Посмотрим, как вообще идут дела с поиском экзопланет. Сначала данные делят по группам, где каждая группа — это год. Потом метод **count()** подсчитывает численность каждой группы. В итоге получаем новую структуру данных с группами, где каждая содержит год и число открытых за этот год экзопланет.\n",
        "\n",
        "\n",
        "В Рandas для группировки данных есть метод **groupby()**. Он принимает как аргумент название столбца, по которому нужно группировать. В случае с делением экзопланет по годам открытия:\n",
        "\n",
        "**print(exoplanet.groupby('discovered'))**\n",
        "\n",
        "**<pandas.core.groupby.DataFrameGroupBy object at 0x7fc1e1ca3400>**\n",
        "\n",
        "\n",
        "Применение метода **groupby()** к объекту типа DataFrame приводит к созданию объекта особого типа — **DataFrameGroupBy**. Это сгруппированные данные. Если применить к ним какой-нибудь метод Pandas, они станут новой структурой данных типа **DataFrame** или **Series**.\n",
        "Подсчитаем сгруппированные по годам экзопланеты методом **count()**:\n",
        "\n",
        "Если нужно сравнить наблюдения по одному показателю, метод применяют к **DataFrameGroupBy** с указанием на один столбец. Нас в первую очередь интересует радиус экзопланет: мы ищем другую Землю. Давайте получим таблицу с единственным столбцом 'radius':\n",
        "\n",
        "**exo_number = exoplanet.groupby('discovered')['radius'].count()**\n",
        "\n",
        "**print(exo_number)**\n",
        "\n",
        "Получили Series, где по годам открытия расписано количество экзопланет, для которых удалось установить радиус.\n",
        "\n",
        "Посмотрим, как меняется средний радиус открытых экзопланет год от года. Для этого надо сложить радиусы планет, открытых за определённый год, и поделить на их количество (которое мы уже нашли).\n",
        "\n",
        "Сумма радиусов считается методом **sum()**:\n",
        "\n",
        "**exo_radius_sum = exoplanet.groupby('discovered')['radius'].sum()**\n",
        "\n",
        "\n",
        "**print(exo_radius_sum)**\n",
        "\n",
        "\n",
        "\n",
        "## Задача\n",
        "Вашему вниманию предлагается датасет с обзором показателей самоубийств с 1985 по 2016 год — Сравнение социально-экономической информации с показателями самоубийств по годам и странам.\n",
        "\n",
        "Столбцами этой таблицы являются: страна, год, пол, возрастная группа, количество самоубийств, население, уровень самоубийств, сводный ключ по стране за год, ИЧР (индекс человеческого развития) за год, ВВП за год, ВВП на душу населения, поколение (на основе среднего по возрастной группе).\n",
        "\n",
        "1. Загрузите таблицу master, содержащую данные о самоубийствах. Выведите на экран таблицу и оцените данные, обратите внимание на названия столбцов, переименуйте их, если это необходимо.\n",
        "\n",
        "2. Убедитесь в том, что данные прошли предподготовку.  Пропущенные и неопределённые значения выявляет метод isna(), а суммарное количество таких значений — метод sum().\n",
        "\n",
        "3. Сгруппируйте DataFrame по столбцу country, сохраните полученный результат в переменной country_grouping.\n",
        "\n",
        "4. Посчитайте количество случаев самоубийств по странам, которые были совершены, методом **sum()**, указав, что выбираем один столбец suicides_no.\n",
        "\n",
        "Сохраните результат в переменной country_sum и выведите первые 30 строк этой таблицы.\n",
        "\n"
      ]
    },
    {
      "cell_type": "code",
      "execution_count": 1,
      "metadata": {
        "scrolled": true,
        "colab": {
          "base_uri": "https://localhost:8080/"
        },
        "id": "Vh26ZpR0-C84",
        "outputId": "f38c0af3-9e04-4db7-db8b-e5eacb6ffdf7"
      },
      "outputs": [
        {
          "output_type": "stream",
          "name": "stdout",
          "text": [
            "   country  year     sex          age  suicides_no  population  \\\n",
            "0  Albania  1987    male  15-24 years           21      312900   \n",
            "1  Albania  1987    male  35-54 years           16      308000   \n",
            "2  Albania  1987  female  15-24 years           14      289700   \n",
            "3  Albania  1987    male    75+ years            1       21800   \n",
            "4  Albania  1987    male  25-34 years            9      274300   \n",
            "\n",
            "   suicides/100k pop country-year  HDI for year  gdp_for_year ($)   \\\n",
            "0               6.71  Albania1987           NaN      2,156,624,900   \n",
            "1               5.19  Albania1987           NaN      2,156,624,900   \n",
            "2               4.83  Albania1987           NaN      2,156,624,900   \n",
            "3               4.59  Albania1987           NaN      2,156,624,900   \n",
            "4               3.28  Albania1987           NaN      2,156,624,900   \n",
            "\n",
            "   gdp_per_capita ($)       generation  \n",
            "0                 796     Generation X  \n",
            "1                 796           Silent  \n",
            "2                 796     Generation X  \n",
            "3                 796  G.I. Generation  \n",
            "4                 796          Boomers  \n",
            "['country', 'year', 'sex', 'age', 'suicides_no', 'population', 'suicides/100k pop', 'country-year', 'HDI for year', ' gdp_for_year ($) ', 'gdp_per_capita ($)', 'generation']\n",
            "\n",
            "Столбцы после переименования:\n",
            "['country', 'year', 'sex', 'age_group', 'suicides_no', 'population', 'suicides_per_100k', 'country_year', 'hdi_year', 'gdp_for_year', 'gdp_per_capita', 'generation']\n",
            "\n",
            "Количество пропусков по каждому столбцу:\n",
            "country                  0\n",
            "year                     0\n",
            "sex                      0\n",
            "age_group                0\n",
            "suicides_no              0\n",
            "population               0\n",
            "suicides_per_100k        0\n",
            "country_year             0\n",
            "hdi_year             19456\n",
            "gdp_for_year             0\n",
            "gdp_per_capita           0\n",
            "generation               0\n",
            "dtype: int64\n",
            "\n",
            "Суммарное количество самоубийств по странам (30 первых):\n",
            "country\n",
            "Albania                     1970\n",
            "Antigua and Barbuda           11\n",
            "Argentina                  82219\n",
            "Armenia                     1905\n",
            "Aruba                        101\n",
            "Australia                  70111\n",
            "Austria                    50073\n",
            "Azerbaijan                  1656\n",
            "Bahamas                       93\n",
            "Bahrain                      463\n",
            "Barbados                     177\n",
            "Belarus                    59892\n",
            "Belgium                    62761\n",
            "Belize                       348\n",
            "Bosnia and Herzegovina       318\n",
            "Brazil                    226613\n",
            "Bulgaria                   36388\n",
            "Cabo Verde                    42\n",
            "Canada                    107561\n",
            "Chile                      40895\n",
            "Colombia                   53080\n",
            "Costa Rica                  6792\n",
            "Croatia                    18429\n",
            "Cuba                       41418\n",
            "Cyprus                       412\n",
            "Czech Republic             43687\n",
            "Denmark                    15297\n",
            "Dominica                       0\n",
            "Ecuador                    20660\n",
            "El Salvador                11683\n",
            "Name: suicides_no, dtype: int64\n"
          ]
        }
      ],
      "source": [
        "import pandas as pd\n",
        "\n",
        "master = pd.read_csv(\"master.csv\")\n",
        "\n",
        "print(master.head())\n",
        "print(master.columns.tolist())\n",
        "\n",
        "master = master.rename(columns={\n",
        "    \"country\": \"country\",\n",
        "    \"year\": \"year\",\n",
        "    \"sex\": \"sex\",\n",
        "    \"age\": \"age_group\",\n",
        "    \"suicides_no\": \"suicides_no\",\n",
        "    \"population\": \"population\",\n",
        "    \"suicides/100k pop\": \"suicides_per_100k\",\n",
        "    \"country-year\": \"country_year\",\n",
        "    \"HDI for year\": \"hdi_year\",\n",
        "    \" gdp_for_year ($) \": \"gdp_for_year\",\n",
        "    \"gdp_per_capita ($)\": \"gdp_per_capita\",\n",
        "    \"generation\": \"generation\"\n",
        "})\n",
        "\n",
        "print(\"\\nСтолбцы после переименования:\")\n",
        "print(master.columns.tolist())\n",
        "\n",
        "print(\"\\nКоличество пропусков по каждому столбцу:\")\n",
        "print(master.isna().sum())\n",
        "\n",
        "country_grouping = master.groupby(\"country\")\n",
        "\n",
        "country_sum = country_grouping[\"suicides_no\"].sum()\n",
        "\n",
        "print(\"\\nСуммарное количество самоубийств по странам (30 первых):\")\n",
        "print(country_sum.head(30))\n"
      ]
    },
    {
      "cell_type": "markdown",
      "metadata": {
        "id": "y_iFCa9n-C84"
      },
      "source": [
        "# Сортировка данных\n",
        "\n",
        "\n",
        "Поиск необычного в группе — что среди планет, что среди меломанов — это прежде всего поиск чемпионов: объектов с выдающимися показателями по разным статьям. Как всю таблицу, так и отдельные группы изучают, сортируя строки по какому-либо столбцу.\n",
        "\n",
        "В Pandas для этой операции есть метод **sort_values()**. У него два аргумента:\n",
        "\n",
        "• **by = 'имя столбца'** — имя столбца, по которому нужно сортировать;\n",
        "\n",
        "• **ascending:** по умолчанию True. Для сортировки по убыванию установите значение False.\n",
        "\n",
        "\n",
        "\n",
        "Среди экзопланет интересны близкие по размерам к Земле. Есть ли такие? Отсортируем список по радиусу в порядке возрастания. Тогда в голове таблицы окажутся самые малые, на которых гравитация не прижмёт нас к полу.\n",
        "\n",
        "**print(exoplanet.sort_values(by='radius').head(30))**\n",
        "\n",
        "Оказывается, некоторые из уже открытых экзопланет по размерам близки не то что к Земле, но уже и к Луне! Получим список экзопланет с радиусом меньше земного. Смотрите, как логический оператор (здесь это <) задействуется в отборе элементов столбца. Дальше нам этот приём не раз понадобится.\n",
        "\n",
        "**print(exoplanet[exoplanet['radius'] < 1])**\n",
        "\n",
        "Но и этот список такой длинный, что изучать его лучше по частям. Экзопланеты, близкие по размерам к Земле, за последнее десятилетие открывали нередко. Можно изучать список открытых за каждый год. Например, для 2014 года (вновь обратите внимание на работу логического оператора, теперь это ==):\n",
        "\n",
        "**print(exoplanet[exoplanet['discovered'] == 2014])**\n",
        "\n",
        "А чтобы не тратить время на лишнее, поставим оба условия сразу. Для этого в Pandas есть логический оператор &, подобный оператору and языка Python. Напомним, его смысл на русском языке можно передать словами «и ещё»:\n",
        "\n",
        "**exo_small_14 = exoplanet[ (exoplanet['radius']<1) & (exoplanet['discovered']==2014)]**\n",
        "\n",
        "**print(exo_small_14)**\n",
        "\n",
        "Отсортируем результат в порядке убывания радиуса.\n",
        "\n",
        "**print(exo_small_14.sort_values(by = 'radius', ascending = False))**\n",
        "\n",
        "\n",
        "\n"
      ]
    },
    {
      "cell_type": "markdown",
      "metadata": {
        "id": "WJxk5Ds2-C84"
      },
      "source": [
        "## Задача\n",
        "1. Выделим пятерки стран с самым низким и самым высоким уровнем самоубийств в мире."
      ]
    },
    {
      "cell_type": "code",
      "execution_count": 2,
      "metadata": {
        "colab": {
          "base_uri": "https://localhost:8080/",
          "height": 780
        },
        "id": "tInV9bb0-C84",
        "outputId": "48a508a2-e31d-438e-e5eb-b7ae3d9a2293"
      },
      "outputs": [
        {
          "output_type": "stream",
          "name": "stdout",
          "text": [
            "5 стран с наименьшим количеством самоубийств:\n",
            "country\n",
            "Dominica                  0\n",
            "Saint Kitts and Nevis     0\n",
            "San Marino                4\n",
            "Antigua and Barbuda      11\n",
            "Maldives                 20\n",
            "Name: suicides_no, dtype: int64\n",
            "\n",
            "5 стран с наибольшим количеством самоубийств:\n",
            "country\n",
            "Ukraine                319950\n",
            "France                 329127\n",
            "Japan                  806902\n",
            "United States         1034013\n",
            "Russian Federation    1209742\n",
            "Name: suicides_no, dtype: int64\n"
          ]
        },
        {
          "output_type": "display_data",
          "data": {
            "text/plain": [
              "<Figure size 1400x500 with 2 Axes>"
            ],
            "image/png": "[encoded data removed]"
          },
          "metadata": {}
        }
      ],
      "source": [
        "\n",
        "country_sorted = country_sum.sort_values()\n",
        "\n",
        "lowest_5 = country_sorted.head(5)\n",
        "print(\"5 стран с наименьшим количеством самоубийств:\")\n",
        "print(lowest_5)\n",
        "\n",
        "highest_5 = country_sorted.tail(5)\n",
        "print(\"\\n5 стран с наибольшим количеством самоубийств:\")\n",
        "print(highest_5)\n",
        "\n",
        "import matplotlib.pyplot as plt\n",
        "\n",
        "fig, axes = plt.subplots(1, 2, figsize=(14,5))\n",
        "\n",
        "lowest_5.plot(kind=\"barh\", ax=axes[0], color=\"green\", title=\"Lowest 5\")\n",
        "highest_5.plot(kind=\"barh\", ax=axes[1], color=\"red\", title=\"Highest 5\")\n",
        "\n",
        "plt.tight_layout()\n",
        "plt.show()\n"
      ]
    },
    {
      "cell_type": "markdown",
      "metadata": {
        "id": "xGVvsA-7-C85"
      },
      "source": [
        "2. Исследуйте распределение количества суидидов по гендерному признаку. Найдите лидеров и антилидеров по количеству самоубийств среди женщин. Повторяется ли картина по сравнению с предыдущим исследованием?"
      ]
    },
    {
      "cell_type": "code",
      "execution_count": 3,
      "metadata": {
        "colab": {
          "base_uri": "https://localhost:8080/",
          "height": 780
        },
        "id": "XRuX8LAP-C85",
        "outputId": "f0c91a95-f5bb-43f0-eccb-6d5111365e94"
      },
      "outputs": [
        {
          "output_type": "stream",
          "name": "stdout",
          "text": [
            "5 стран с наименьшим количеством самоубийств среди женщин:\n",
            "country\n",
            "Dominica                 0\n",
            "Saint Kitts and Nevis    0\n",
            "San Marino               0\n",
            "Oman                     0\n",
            "Antigua and Barbuda      1\n",
            "Name: suicides_no, dtype: int64\n",
            "\n",
            "5 стран с наибольшим количеством самоубийств среди женщин:\n",
            "country\n",
            "Republic of Korea      82615\n",
            "France                 89419\n",
            "United States         213797\n",
            "Russian Federation    214330\n",
            "Japan                 251630\n",
            "Name: suicides_no, dtype: int64\n"
          ]
        },
        {
          "output_type": "display_data",
          "data": {
            "text/plain": [
              "<Figure size 1400x500 with 2 Axes>"
            ],
            "image/png": "[encoded data removed]"
          },
          "metadata": {}
        }
      ],
      "source": [
        "gender_grouping = master.groupby([\"country\", \"sex\"])[\"suicides_no\"].sum()\n",
        "\n",
        "female_suicides = gender_grouping.xs(\"female\", level=\"sex\")\n",
        "\n",
        "female_sorted = female_suicides.sort_values()\n",
        "\n",
        "female_lowest_5 = female_sorted.head(5)\n",
        "print(\"5 стран с наименьшим количеством самоубийств среди женщин:\")\n",
        "print(female_lowest_5)\n",
        "\n",
        "female_highest_5 = female_sorted.tail(5)\n",
        "print(\"\\n5 стран с наибольшим количеством самоубийств среди женщин:\")\n",
        "print(female_highest_5)\n",
        "\n",
        "import matplotlib.pyplot as plt\n",
        "fig, axes = plt.subplots(1, 2, figsize=(14,5))\n",
        "\n",
        "female_lowest_5.plot(kind=\"barh\", ax=axes[0], color=\"purple\", title=\"Женщины: минимальные значения\")\n",
        "female_highest_5.plot(kind=\"barh\", ax=axes[1], color=\"orange\", title=\"Женщины: максимальные значения\")\n",
        "\n",
        "plt.tight_layout()\n",
        "plt.show()\n"
      ]
    },
    {
      "cell_type": "markdown",
      "metadata": {
        "id": "bd7yKA-C-C85"
      },
      "source": [
        "# Описательная статистика\n",
        "\n",
        "Чтобы представить себе среднестатистического самоубийцу, понадобится описательная статистика.\n",
        "\n",
        "Из её показателей для количественного описания данных в нашей задаче нужны четыре меры — максимум, минимум, медиана и среднее.\n",
        "\n",
        "Наибольшее и наименьшее обычно вычисляют только по одному признаку. Например, можно получить минимальное и максимальное значение уровня самоубийств (количество самоубийств на 100 тыс.населения) (столбец 'suicides/100k pop'). Для поиска максимума вызывают метод max(), примененный к этому столбцу:\n",
        "\n",
        "print(master['suicides/100k pop'].max())\n"
      ]
    },
    {
      "cell_type": "code",
      "execution_count": 5,
      "metadata": {
        "colab": {
          "base_uri": "https://localhost:8080/"
        },
        "id": "mhESv2oF-C85",
        "outputId": "a45892c4-1299-444f-9718-19cffca14ca9"
      },
      "outputs": [
        {
          "output_type": "stream",
          "name": "stdout",
          "text": [
            "224.97\n"
          ]
        }
      ],
      "source": [
        "print(master['suicides_per_100k'].max())"
      ]
    },
    {
      "cell_type": "markdown",
      "metadata": {
        "id": "Fm9isKEf-C85"
      },
      "source": [
        "Самый высокий показатель оказался 224.97 самоубийств на 100 тыс.населения. Интересно, в какой стране такая ситуация.\n",
        "\n",
        "Запросим из master строку с максимальным значением, прибегнув к логической индексации с условием\n",
        "\n",
        "**master['suicides/100k pop'] == master['suicides/100k pop'].max()**"
      ]
    },
    {
      "cell_type": "code",
      "execution_count": 6,
      "metadata": {
        "colab": {
          "base_uri": "https://localhost:8080/",
          "height": 458
        },
        "id": "6G5R_ZQ1-C86",
        "outputId": "2aa6f90d-b701-4078-8ef8-4aa8dd14b854"
      },
      "outputs": [
        {
          "output_type": "execute_result",
          "data": {
            "text/plain": [
              "0        False\n",
              "1        False\n",
              "2        False\n",
              "3        False\n",
              "4        False\n",
              "         ...  \n",
              "27815    False\n",
              "27816    False\n",
              "27817    False\n",
              "27818    False\n",
              "27819    False\n",
              "Name: suicides_per_100k, Length: 27820, dtype: bool"
            ],
            "text/html": [
              "<div>\n",
              "<style scoped>\n",
              "    .dataframe tbody tr th:only-of-type {\n",
              "        vertical-align: middle;\n",
              "    }\n",
              "\n",
              "    .dataframe tbody tr th {\n",
              "        vertical-align: top;\n",
              "    }\n",
              "\n",
              "    .dataframe thead th {\n",
              "        text-align: right;\n",
              "    }\n",
              "</style>\n",
              "<table border=\"1\" class=\"dataframe\">\n",
              "  <thead>\n",
              "    <tr style=\"text-align: right;\">\n",
              "      <th></th>\n",
              "      <th>suicides_per_100k</th>\n",
              "    </tr>\n",
              "  </thead>\n",
              "  <tbody>\n",
              "    <tr>\n",
              "      <th>0</th>\n",
              "      <td>False</td>\n",
              "    </tr>\n",
              "    <tr>\n",
              "      <th>1</th>\n",
              "      <td>False</td>\n",
              "    </tr>\n",
              "    <tr>\n",
              "      <th>2</th>\n",
              "      <td>False</td>\n",
              "    </tr>\n",
              "    <tr>\n",
              "      <th>3</th>\n",
              "      <td>False</td>\n",
              "    </tr>\n",
              "    <tr>\n",
              "      <th>4</th>\n",
              "      <td>False</td>\n",
              "    </tr>\n",
              "    <tr>\n",
              "      <th>...</th>\n",
              "      <td>...</td>\n",
              "    </tr>\n",
              "    <tr>\n",
              "      <th>27815</th>\n",
              "      <td>False</td>\n",
              "    </tr>\n",
              "    <tr>\n",
              "      <th>27816</th>\n",
              "      <td>False</td>\n",
              "    </tr>\n",
              "    <tr>\n",
              "      <th>27817</th>\n",
              "      <td>False</td>\n",
              "    </tr>\n",
              "    <tr>\n",
              "      <th>27818</th>\n",
              "      <td>False</td>\n",
              "    </tr>\n",
              "    <tr>\n",
              "      <th>27819</th>\n",
              "      <td>False</td>\n",
              "    </tr>\n",
              "  </tbody>\n",
              "</table>\n",
              "<p>27820 rows × 1 columns</p>\n",
              "</div><br><label><b>dtype:</b> bool</label>"
            ]
          },
          "metadata": {},
          "execution_count": 6
        }
      ],
      "source": [
        "master['suicides_per_100k'] == master['suicides_per_100k'].max()"
      ]
    },
    {
      "cell_type": "markdown",
      "metadata": {
        "id": "3WYUW13n-C86"
      },
      "source": [
        "Минимальное значение — ищут методом **min()**. Нам интересно установить случаи, когда уровень суицидов минимальный, но не нулевой.\n",
        "\n",
        "Вот как мы создаём выборку  и находим в ней минимальное значение:\n",
        "\n",
        "**master_drop_null = master[master['suicides/100k pop'] != 0]**\n",
        "\n",
        "**print(master_drop_null['suicides/100k pop'].min())**\n"
      ]
    },
    {
      "cell_type": "code",
      "execution_count": 7,
      "metadata": {
        "colab": {
          "base_uri": "https://localhost:8080/"
        },
        "id": "rPPnTXIX-C86",
        "outputId": "f5ca5797-9951-42f7-cddd-1c801ad64fc5"
      },
      "outputs": [
        {
          "output_type": "stream",
          "name": "stdout",
          "text": [
            "0.02\n"
          ]
        }
      ],
      "source": [
        "master_drop_null = master[master['suicides_per_100k'] != 0]\n",
        "\n",
        "print(master_drop_null['suicides_per_100k'].min())"
      ]
    },
    {
      "cell_type": "markdown",
      "metadata": {
        "id": "7VkPO8Fu-C86"
      },
      "source": [
        "Получим название самой \"счастливой\" страны. Как и при поиске максимума, воспользуемся условием и логической индексацией"
      ]
    },
    {
      "cell_type": "code",
      "execution_count": 9,
      "metadata": {
        "colab": {
          "base_uri": "https://localhost:8080/"
        },
        "id": "qOtncpSL-C86",
        "outputId": "0f8ddc37-0127-48c3-dcdd-6d6751fe04ab"
      },
      "outputs": [
        {
          "output_type": "stream",
          "name": "stdout",
          "text": [
            "Минимальное количество самоубийств: 0\n",
            "\n",
            "Самая 'счастливая' страна (или несколько):\n",
            "country\n",
            "Dominica                 0\n",
            "Saint Kitts and Nevis    0\n",
            "Name: suicides_no, dtype: int64\n"
          ]
        }
      ],
      "source": [
        "country_sum = master.groupby(\"country\")[\"suicides_no\"].sum()\n",
        "\n",
        "min_value = country_sum.min()\n",
        "print(\"Минимальное количество самоубийств:\", min_value)\n",
        "\n",
        "happiest_country = country_sum[country_sum == min_value]\n",
        "\n",
        "print(\"\\nСамая 'счастливая' страна (или несколько):\")\n",
        "print(happiest_country)\n"
      ]
    },
    {
      "cell_type": "markdown",
      "metadata": {
        "id": "SgZc73Qx-C86"
      },
      "source": [
        "Результат вывода — две страны, которые соответствуют минимальному значению.\n",
        "На основе полученных данных можно сделать вывод, что число совершенных самоубийств на 100 тыс. населения  находится в диапазоне от 0,02 до 224.97 секунд, не включая пропущенные.\n",
        "\n",
        "Это знание пригодится, чтобы разобраться с медианой и средним арифметическим.\n",
        "\n",
        "Среднее и медиана оценивают значения в центре выборки. Если тех строк, где число с большим количеством самоубийц, столько же, сколько тех, где это число мало — среднее подойдет. Но когда есть оторванные от основной массы лидеры, их результаты сильно смещают значение среднего вверх. Вот почему оценивать в этом случае лучше медианой.\n",
        "\n",
        "\n",
        "В геометрии медиана делит фигуру на две равные по площади. В статистике она делит выборку пополам: в одной половине значения меньше медианного, в другой больше. Логично, что для определения медианы список обязательно должен быть отсортирован — либо по возрастанию, либо по убыванию.\n",
        "Когда количество значений нечётное, медиана будет равна тому значению, которое оказалось ровно посередине отсортированного набора. Если же количество данных чётное, то медиана рассчитывается как среднее арифметическое двух соседних чисел в середине набора.\n",
        "\n"
      ]
    },
    {
      "cell_type": "markdown",
      "metadata": {
        "id": "c4vEaj2n-C86"
      },
      "source": [
        "В Pandas есть метод **median()**, который считает медиану. По аналогии с **min()** и **max()** его можно применять ко всей таблице, к отдельному столбцу или к сгруппированным данным. Теперь применим медиану ко всем значениям времени прослушивания в нашей таблице, исключив нулевые:\n",
        "\n"
      ]
    },
    {
      "cell_type": "code",
      "execution_count": 12,
      "metadata": {
        "colab": {
          "base_uri": "https://localhost:8080/"
        },
        "id": "Fe1qnwRz-C86",
        "outputId": "7077c323-7eb2-40e8-b823-2dd59b8ded9c"
      },
      "outputs": [
        {
          "output_type": "stream",
          "name": "stdout",
          "text": [
            "Медиана suicides_no: 25.0\n"
          ]
        }
      ],
      "source": [
        "#Предположил что тут \"ко всем значениям времени прослушивания\" опечатка и речь все ещё идёт про дата сет со статистикой суицидов\n",
        "master[\"suicides_no\"] = pd.to_numeric(master[\"suicides_no\"], errors=\"coerce\")\n",
        "median_suicides = master[\"suicides_no\"].dropna().median()\n",
        "print(\"Медиана suicides_no:\", median_suicides)\n"
      ]
    },
    {
      "cell_type": "markdown",
      "metadata": {
        "id": "Qg6SN-YB-C86"
      },
      "source": [
        "Чтобы убедиться, что лидеры действительно смещают средний показатель вверх, найдём среднее арифметическое всех этих значений методом mean():"
      ]
    },
    {
      "cell_type": "code",
      "execution_count": 13,
      "metadata": {
        "colab": {
          "base_uri": "https://localhost:8080/"
        },
        "id": "xK9meO2F-C86",
        "outputId": "fa794a69-d061-4a17-e280-76f5fcdc93d3"
      },
      "outputs": [
        {
          "output_type": "stream",
          "name": "stdout",
          "text": [
            "Среднее suicides_no: 242.57440690150972\n"
          ]
        }
      ],
      "source": [
        "mean_suicides = master[\"suicides_no\"].dropna().mean()\n",
        "print(\"Среднее suicides_no:\", mean_suicides)\n"
      ]
    }
  ],
  "metadata": {
    "kernelspec": {
      "display_name": "Python 3 (ipykernel)",
      "language": "python",
      "name": "python3"
    },
    "language_info": {
      "codemirror_mode": {
        "name": "ipython",
        "version": 3
      },
      "file_extension": ".py",
      "mimetype": "text/x-python",
      "name": "python",
      "nbconvert_exporter": "python",
      "pygments_lexer": "ipython3",
      "version": "3.9.12"
    },
    "colab": {
      "provenance": []
    }
  },
  "nbformat": 4,
  "nbformat_minor": 0
}