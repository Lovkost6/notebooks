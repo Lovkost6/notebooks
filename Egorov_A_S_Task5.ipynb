{
  "cells": [
    {
      "cell_type": "markdown",
      "metadata": {
        "id": "iL1byB5JBY1L"
      },
      "source": [
        "# Добро пожаловать в самостоятельный проект\n",
        "\n",
        "Самостоятельный проект — это практическая проверка знаний, приобретённых вами на вводном курсе. Каждый раздел посвящён отдельной стадии анализа данных с экскурсом в основы Python.\n",
        "\n",
        "Проект выполняется в пять этапов:\n",
        "\n",
        "•\tПостановка задачи\n",
        "\n",
        "•\tПолучение данных\n",
        "\n",
        "•\tПредобработка данных\n",
        "\n",
        "•\tАнализ данных\n",
        "\n",
        "•\tОформление результатов\n",
        "\n",
        "Для каждой части описаны шаги выполнения c теоретическим приложением. В Jupyter Notebook эти шаги связаны между собой выводами и результатами.\n",
        "\n",
        "**Исследование: Музыка больших городов**\n",
        "\n",
        "Яндекс.Музыка — это крупный продукт с огромным запасом данных для исследований. Команды таких сервисов для поддержания интереса к продукту и привлечения новых пользователей часто проводят исследования про пользователей. Чтобы удержать клиентов и привлечь новых, сделать бренд более узнаваемым, команда сервиса проводит исследования аудитории, и публикует интересные результаты. Например, интересно сравнить тексты, сочинённые нейросетью, с произведениями настоящих рэперов.\n",
        "Есть исследование, которое напоминает наше: о музыкальных предпочтениях в разных городах России.\n",
        "Итак, вопрос вам: как музыка, которая звучит по дороге на работу в понедельник утром, отличается от той, что играет в среду или в конце рабочей недели? Возьмите данные для Москвы и Петербурга. Сравните, что и в каком режиме слушают их жители.\n",
        "\n",
        "План исследования\n",
        "\n",
        "1.\tПолучение данных. Прочитайте данные, ознакомьтесь с ними.\n",
        "\n",
        "2.\tПредобработка данных. Избавьтесь от дубликатов, проблем с названиями столбцов и пропусками.\n",
        "\n",
        "3.\tАнализ данных. Ответьте на основные вопросы исследования, подготовьте отчётную таблицу или опишите полученный результат.\n",
        "\n",
        "4.\tПодведение итогов. Просмотрите выполненную работу и сформулируйте выводы.\n"
      ]
    },
    {
      "cell_type": "markdown",
      "metadata": {
        "id": "5kgFvOhjBY1M"
      },
      "source": [
        "# Этап 1. Получение данных\n",
        "\n",
        "Изучим данные, предоставленные сервисом для проекта.\n",
        "\n",
        "Прочитайте файл music_project.csv и сохраните его в переменной df.\n",
        "\n",
        "Получите  первых 10 строк таблицы, а также общую информацию о данных таблицы df."
      ]
    },
    {
      "cell_type": "code",
      "execution_count": 1,
      "metadata": {
        "colab": {
          "base_uri": "https://localhost:8080/"
        },
        "id": "weTl7zXOBY1N",
        "outputId": "28533c5e-c55e-475c-ee2c-c46df261631b"
      },
      "outputs": [
        {
          "output_type": "stream",
          "name": "stdout",
          "text": [
            "     userID                        Track            artist   genre  \\\n",
            "0  FFB692EC            Kamigata To Boots  The Mass Missile    rock   \n",
            "1  55204538  Delayed Because of Accident  Andreas Rönnberg    rock   \n",
            "2    20EC38            Funiculì funiculà       Mario Lanza     pop   \n",
            "3  A3DD03C9        Dragons in the Sunset        Fire + Ice    folk   \n",
            "4  E2DC1FAE                  Soul People        Space Echo   dance   \n",
            "5  842029A1                    Преданная         IMPERVTOR  rusrap   \n",
            "6  4CB90AA5                         True      Roman Messer   dance   \n",
            "7  F03E1C1F             Feeling This Way   Polina Griffith   dance   \n",
            "8  8FA1D3BE     И вновь продолжается бой               NaN  ruspop   \n",
            "9  E772D5C0                    Pessimist               NaN   dance   \n",
            "\n",
            "             City        time        Day  \n",
            "0  Saint-Petersburg  20:28:33  Wednesday  \n",
            "1            Moscow  14:07:09     Friday  \n",
            "2  Saint-Petersburg  20:58:07  Wednesday  \n",
            "3  Saint-Petersburg  08:37:09     Monday  \n",
            "4            Moscow  08:34:34     Monday  \n",
            "5  Saint-Petersburg  13:09:41     Friday  \n",
            "6            Moscow  13:00:07  Wednesday  \n",
            "7            Moscow  20:47:49  Wednesday  \n",
            "8            Moscow  09:17:40     Friday  \n",
            "9  Saint-Petersburg  21:20:49  Wednesday  \n",
            "<class 'pandas.core.frame.DataFrame'>\n",
            "RangeIndex: 65079 entries, 0 to 65078\n",
            "Data columns (total 7 columns):\n",
            " #   Column    Non-Null Count  Dtype \n",
            "---  ------    --------------  ----- \n",
            " 0     userID  65079 non-null  object\n",
            " 1   Track     63848 non-null  object\n",
            " 2   artist    57876 non-null  object\n",
            " 3   genre     63881 non-null  object\n",
            " 4     City    65079 non-null  object\n",
            " 5   time      65079 non-null  object\n",
            " 6   Day       65079 non-null  object\n",
            "dtypes: object(7)\n",
            "memory usage: 3.5+ MB\n",
            "None\n"
          ]
        }
      ],
      "source": [
        "import pandas as pd\n",
        "\n",
        "df = pd.read_csv(\"yandex_music (1).csv\")\n",
        "print(df.head(10))\n",
        "print(df.info())\n"
      ]
    },
    {
      "cell_type": "markdown",
      "metadata": {
        "id": "8BXfh2tvBY1N"
      },
      "source": [
        "Рассмотрим полученную информацию подробнее.\n",
        "Всего в таблице 7 столбцов, тип данных у каждого столбца - строка.\n",
        "Подробно разберём, какие в df столбцы и какую информацию они содержат:\n",
        "•\tuserID — идентификатор пользователя;\n",
        "•\tTrack — название трека;\n",
        "•\tartist — имя исполнителя;\n",
        "•\tgenre — название жанра;\n",
        "•\tCity — город, в котором происходило прослушивание;\n",
        "•\ttime — время, в которое пользователь слушал трек;\n",
        "•\tDay — день недели.\n",
        "Количество значений в столбцах различается. Это говорит о том, что в данных есть пропущенные значения.\n"
      ]
    },
    {
      "cell_type": "markdown",
      "metadata": {
        "id": "NtPZn08LBY1N"
      },
      "source": [
        "## Выводы:\n",
        "\n",
        "Каждая строка таблицы содержит информацию о композициях определённого жанра в определённом исполнении, которые пользователи слушали в одном из городов в определённое время и день недели. Две проблемы, которые нужно решать: пропуски и некачественные названия столбцов. Для проверки рабочих гипотез особенно ценны столбцы (*вставьте сюда названия столбцов, наиболее существенных, на ва взгляд*. Данные из столбца *название столбца*  позволят узнать самые популярные жанры."
      ]
    },
    {
      "cell_type": "markdown",
      "metadata": {
        "id": "USF3JiRsBY1N"
      },
      "source": [
        "# Этап 2. Предобработка данных\n",
        "\n",
        "Исключим пропуски, переименуем столбцы, а также проверим данные на наличие дубликатов.\n",
        "\n",
        "Получаем перечень названий столбцов. Какая наблюдается проблема — кроме тех, что уже были названы ранее?\n"
      ]
    },
    {
      "cell_type": "code",
      "execution_count": 2,
      "metadata": {
        "colab": {
          "base_uri": "https://localhost:8080/"
        },
        "id": "bd8spXwCBY1O",
        "outputId": "9bf3624e-cae1-40b3-be9e-055a7ee71e98"
      },
      "outputs": [
        {
          "output_type": "stream",
          "name": "stdout",
          "text": [
            "['  userID', 'Track', 'artist', 'genre', '  City  ', 'time', 'Day']\n"
          ]
        }
      ],
      "source": [
        "print(df.columns.tolist())"
      ]
    },
    {
      "cell_type": "markdown",
      "metadata": {
        "id": "lz7uoyo7BY1O"
      },
      "source": [
        "В названиях столбцов есть пробелы, которые могут затруднять доступ к данным.\n",
        "\n",
        "Переименуем столбцы для удобства дальнейшей работы. Проверим результат.\n"
      ]
    },
    {
      "cell_type": "code",
      "execution_count": 3,
      "metadata": {
        "colab": {
          "base_uri": "https://localhost:8080/"
        },
        "id": "DNoPaUiCBY1O",
        "outputId": "661f47d0-56be-4ab7-9ee8-4e5e4ce8169b"
      },
      "outputs": [
        {
          "output_type": "stream",
          "name": "stdout",
          "text": [
            "['userid', 'track', 'artist', 'genre', 'city', 'time', 'day']\n",
            "['user_id', 'track_name', 'artist_name', 'genre_name', 'city', 'timestamp', 'day_of_week']\n"
          ]
        }
      ],
      "source": [
        "df.columns = (\n",
        "    df.columns\n",
        "      .str.strip()\n",
        "      .str.lower()\n",
        "      .str.replace(r\"\\s+\", \"_\", regex=True)\n",
        ")\n",
        "\n",
        "print(df.columns.tolist())\n",
        "df = df.rename(columns={\n",
        "    \"userid\": \"user_id\",\n",
        "    \"track\": \"track_name\",\n",
        "    \"artist\": \"artist_name\",\n",
        "    \"genre\": \"genre_name\",\n",
        "    \"city\": \"city\",\n",
        "    \"time\": \"timestamp\",\n",
        "    \"day\": \"day_of_week\",\n",
        "})\n",
        "print(df.columns.tolist())"
      ]
    },
    {
      "cell_type": "markdown",
      "metadata": {
        "id": "8A9uXdtVBY1P"
      },
      "source": [
        "Проверим данные на наличие пропусков вызовом набора методов для суммирования пропущенных значений."
      ]
    },
    {
      "cell_type": "code",
      "execution_count": 4,
      "metadata": {
        "colab": {
          "base_uri": "https://localhost:8080/"
        },
        "id": "jxylDdauBY1P",
        "outputId": "85bfab89-fa7b-478a-bdd0-6d2d14fab39e"
      },
      "outputs": [
        {
          "output_type": "stream",
          "name": "stdout",
          "text": [
            "user_id           0\n",
            "track_name     1231\n",
            "artist_name    7203\n",
            "genre_name     1198\n",
            "city              0\n",
            "timestamp         0\n",
            "day_of_week       0\n",
            "dtype: int64\n",
            "Всего пропусков: 9632\n"
          ]
        }
      ],
      "source": [
        "print(df.isnull().sum())\n",
        "print(\"Всего пропусков:\", df.isnull().sum().sum())\n"
      ]
    },
    {
      "cell_type": "markdown",
      "metadata": {
        "id": "krE8KkAkBY1P"
      },
      "source": [
        "Пустые значения свидетельствуют, что для некоторых треков доступна не вся информация. Причины могут быть разные: скажем, не назван конкретный исполнитель народной песни. Хуже, если проблемы с записью данных. Каждый отдельный случай необходимо разобрать и выявить причину.\n",
        "\n",
        "Заменяем пропущенные значения в столбцах с названием трека и исполнителя на строку 'unknown'. После этой операции нужно убедиться, что таблица больше не содержит пропусков.\n"
      ]
    },
    {
      "cell_type": "code",
      "execution_count": 5,
      "metadata": {
        "colab": {
          "base_uri": "https://localhost:8080/"
        },
        "id": "TFIHfzwbBY1P",
        "outputId": "00479d44-3513-44f1-d8fb-fefb85efe31a"
      },
      "outputs": [
        {
          "output_type": "stream",
          "name": "stdout",
          "text": [
            "track_name     0\n",
            "artist_name    0\n",
            "dtype: int64\n"
          ]
        }
      ],
      "source": [
        "df[\"track_name\"]  = df[\"track_name\"].fillna(\"unknown\")\n",
        "df[\"artist_name\"] = df[\"artist_name\"].fillna(\"unknown\")\n",
        "\n",
        "print(df[[\"track_name\", \"artist_name\"]].isnull().sum())\n"
      ]
    },
    {
      "cell_type": "code",
      "execution_count": 6,
      "metadata": {
        "colab": {
          "base_uri": "https://localhost:8080/"
        },
        "id": "Np83Eyo9BY1Q",
        "outputId": "4bbd7f4f-40db-4e8c-d8cb-0d215a3d290c"
      },
      "outputs": [
        {
          "output_type": "stream",
          "name": "stdout",
          "text": [
            "Всего пропусков в таблице: 1198\n"
          ]
        }
      ],
      "source": [
        "print(\"Всего пропусков в таблице:\", df.isnull().sum().sum())"
      ]
    },
    {
      "cell_type": "markdown",
      "metadata": {
        "id": "YEPUN1AQBY1Q"
      },
      "source": [
        "Удаляем в столбце с жанрами пустые значения; убеждаемся, что их больше не осталось."
      ]
    },
    {
      "cell_type": "code",
      "execution_count": 7,
      "metadata": {
        "colab": {
          "base_uri": "https://localhost:8080/"
        },
        "id": "P3iVjaQCBY1Q",
        "outputId": "6bf18a97-b291-4585-c07c-2929ca4a6787"
      },
      "outputs": [
        {
          "output_type": "stream",
          "name": "stdout",
          "text": [
            "Пропусков в genre_name: 0\n"
          ]
        }
      ],
      "source": [
        "df = df.dropna(subset=[\"genre_name\"])\n",
        "\n",
        "print(\"Пропусков в genre_name:\", df[\"genre_name\"].isnull().sum())"
      ]
    },
    {
      "cell_type": "markdown",
      "metadata": {
        "id": "eF4VSGg0BY1Q"
      },
      "source": [
        "Необходимо установить наличие дубликатов. Если найдутся, удаляем, и проверяем, все ли удалились."
      ]
    },
    {
      "cell_type": "code",
      "execution_count": 8,
      "metadata": {
        "colab": {
          "base_uri": "https://localhost:8080/"
        },
        "id": "cOlU6LZuBY1Q",
        "outputId": "4de33ae1-ff7a-4e6f-c1fd-d1c89dae4bef"
      },
      "outputs": [
        {
          "output_type": "stream",
          "name": "stdout",
          "text": [
            "Количество дубликатов до удаления: 3755\n",
            "Количество дубликатов после удаления: 0\n"
          ]
        }
      ],
      "source": [
        "dup_count = df.duplicated().sum()\n",
        "print(\"Количество дубликатов до удаления:\", dup_count)\n",
        "\n",
        "df = df.drop_duplicates().reset_index(drop=True)\n",
        "\n",
        "dup_count_after = df.duplicated().sum()\n",
        "print(\"Количество дубликатов после удаления:\", dup_count_after)\n"
      ]
    },
    {
      "cell_type": "markdown",
      "metadata": {
        "id": "TwLZUrLdBY1Q"
      },
      "source": [
        "Дубликаты могли появиться вследствие сбоя в записи данных. Стоит обратить внимание и разобраться с причинами появления такого «информационного мусора».\n",
        "\n",
        "Сохраняем список уникальных значений столбца с жанрами в переменной genres_list.\n",
        "\n",
        "Объявим функцию find_genre() для поиска неявных дубликатов в столбце с жанрами. Например, когда название одного и того же жанра написано разными словами.\n"
      ]
    },
    {
      "cell_type": "code",
      "execution_count": 9,
      "metadata": {
        "colab": {
          "base_uri": "https://localhost:8080/"
        },
        "id": "JvNUTC5SBY1Q",
        "outputId": "7b6fdb20-e580-4b8a-e4a2-4183354730aa"
      },
      "outputs": [
        {
          "output_type": "stream",
          "name": "stdout",
          "text": [
            "289 уникальных жанров\n",
            "['rock', 'pop', 'folk', 'dance', 'rusrap', 'ruspop', 'world', 'electronic', 'alternative', 'children', 'rnb', 'hip', 'jazz', 'postrock', 'latin', 'classical', 'metal', 'reggae', 'tatar', 'blues', 'instrumental', 'rusrock', 'dnb', 'türk', 'post', 'country', 'psychedelic', 'conjazz', 'indie', 'posthardcore']\n"
          ]
        }
      ],
      "source": [
        "genres_list = df[\"genre_name\"].dropna().unique().tolist()\n",
        "print(len(genres_list), \"уникальных жанров\")\n",
        "print(genres_list[:30])\n"
      ]
    },
    {
      "cell_type": "code",
      "execution_count": 10,
      "metadata": {
        "id": "PBxXyJTEBY1R"
      },
      "outputs": [],
      "source": [
        "def find_genre(genre_name: str) -> int:\n",
        "    count = 0\n",
        "    for g in genres_list:\n",
        "        if g == genre_name:\n",
        "            count += 1\n",
        "    return count"
      ]
    },
    {
      "cell_type": "markdown",
      "metadata": {
        "id": "E3A2Be8xBY1R"
      },
      "source": [
        "Вызов функции find_genre() для поиска различных вариантов названия жанра хип-хоп в таблице.\n",
        "\n",
        "Правильное название — hiphop. Поищем другие варианты:\n",
        "\n",
        "•\thip\n",
        "\n",
        "•\thop\n",
        "\n",
        "•\thip-hop\n"
      ]
    },
    {
      "cell_type": "code",
      "execution_count": 11,
      "metadata": {
        "colab": {
          "base_uri": "https://localhost:8080/"
        },
        "id": "mbHOfHYEBY1R",
        "outputId": "565b64da-eefe-4fbb-cb14-c545e53900e1"
      },
      "outputs": [
        {
          "output_type": "stream",
          "name": "stdout",
          "text": [
            "hip : 1\n"
          ]
        }
      ],
      "source": [
        "print(\"hip :\", find_genre(\"hip\"))"
      ]
    },
    {
      "cell_type": "code",
      "execution_count": 12,
      "metadata": {
        "colab": {
          "base_uri": "https://localhost:8080/"
        },
        "id": "egvXSUgwBY1R",
        "outputId": "0aebec6a-89cc-4b74-aab2-26082f5c29a8"
      },
      "outputs": [
        {
          "output_type": "stream",
          "name": "stdout",
          "text": [
            "hop : 1\n"
          ]
        }
      ],
      "source": [
        "print(\"hop :\", find_genre(\"hop\"))"
      ]
    },
    {
      "cell_type": "code",
      "execution_count": 13,
      "metadata": {
        "colab": {
          "base_uri": "https://localhost:8080/"
        },
        "id": "yTlgxC89BY1R",
        "outputId": "91eb79f2-77bd-431d-8c7e-785a2e83631c"
      },
      "outputs": [
        {
          "output_type": "stream",
          "name": "stdout",
          "text": [
            "hip-hop : 1\n"
          ]
        }
      ],
      "source": [
        "print(\"hip-hop :\", find_genre(\"hip-hop\"))"
      ]
    },
    {
      "cell_type": "markdown",
      "metadata": {
        "id": "yegOEiPWBY1R"
      },
      "source": [
        "Объявим функцию find_hip_hop(), которая заменяет неправильное название этого жанра в столбце 'genre_name' на 'hiphop' и проверяет успешность выполнения замены.\n",
        "\n",
        "Так исправляем все варианты написания, которые выявила проверка.\n"
      ]
    },
    {
      "cell_type": "code",
      "execution_count": 14,
      "metadata": {
        "id": "bIZ24-SXBY1R"
      },
      "outputs": [],
      "source": [
        "def find_hip_hop(df, wrong_name):\n",
        "    df[\"genre_name\"] = df[\"genre_name\"].replace(wrong_name, \"hiphop\")\n",
        "    result = (df[\"genre_name\"] == wrong_name).sum()\n",
        "    return result"
      ]
    },
    {
      "cell_type": "code",
      "execution_count": 15,
      "metadata": {
        "colab": {
          "base_uri": "https://localhost:8080/"
        },
        "id": "l4fNmGX3BY1R",
        "outputId": "6d9f3d7a-f833-43ec-e202-1f7d1f6f033b"
      },
      "outputs": [
        {
          "output_type": "stream",
          "name": "stdout",
          "text": [
            "Осталось 'hip-hop' после замены: 0\n"
          ]
        }
      ],
      "source": [
        "remaining = find_hip_hop(df, \"hip-hop\")\n",
        "print(\"Осталось 'hip-hop' после замены:\", remaining)"
      ]
    },
    {
      "cell_type": "markdown",
      "metadata": {
        "id": "hPUcBZvkBY1S"
      },
      "source": [
        "Получаем общую информацию о данных. Убеждаемся, что чистка выполнена успешно."
      ]
    },
    {
      "cell_type": "code",
      "execution_count": 16,
      "metadata": {
        "colab": {
          "base_uri": "https://localhost:8080/"
        },
        "id": "RDimM5odBY1S",
        "outputId": "d1fd33f8-c067-47d3-88b2-d692b59c5748"
      },
      "outputs": [
        {
          "output_type": "stream",
          "name": "stdout",
          "text": [
            "<class 'pandas.core.frame.DataFrame'>\n",
            "RangeIndex: 60126 entries, 0 to 60125\n",
            "Data columns (total 7 columns):\n",
            " #   Column       Non-Null Count  Dtype \n",
            "---  ------       --------------  ----- \n",
            " 0   user_id      60126 non-null  object\n",
            " 1   track_name   60126 non-null  object\n",
            " 2   artist_name  60126 non-null  object\n",
            " 3   genre_name   60126 non-null  object\n",
            " 4   city         60126 non-null  object\n",
            " 5   timestamp    60126 non-null  object\n",
            " 6   day_of_week  60126 non-null  object\n",
            "dtypes: object(7)\n",
            "memory usage: 3.2+ MB\n",
            "None\n"
          ]
        }
      ],
      "source": [
        "print(df.info())"
      ]
    },
    {
      "cell_type": "markdown",
      "metadata": {
        "id": "uUep8I7qBY1S"
      },
      "source": [
        "## Вывод\n",
        "\n",
        "На этапе предобработки в данных обнаружились не только пропуски и проблемы с названиями столбцов, но и всяческие виды дубликатов. Их удаление позволит провести анализ точнее. Поскольку сведения о жанрах важно сохранить для анализа, не просто удаляем все пропущенные значения, но заполним пропущенные имена исполнителей и названия треков. Имена столбцов теперь корректны и удобны для дальнейшей работы.\n"
      ]
    },
    {
      "cell_type": "markdown",
      "metadata": {
        "id": "Y4q17UFfBY1S"
      },
      "source": [
        "# Действительно ли музыку в разных городах слушают по-разному?\n",
        "\n",
        "Была выдвинута гипотеза, что в Москве и Санкт-Петербурге пользователи слушают музыку по-разному. Проверяем это предположение по данным о трёх днях недели — понедельнике, среде и пятнице.\n",
        "\n",
        "Для каждого города устанавливаем количество прослушанных в эти дни композиций с известным жанром, и сравниваем результаты.\n",
        "Группируем данные по городу и вызовом метода count() подсчитываем композиции, для которых известен жанр.\n"
      ]
    },
    {
      "cell_type": "code",
      "execution_count": 17,
      "metadata": {
        "colab": {
          "base_uri": "https://localhost:8080/"
        },
        "id": "ITxypJZWBY1S",
        "outputId": "65c657f2-c759-4ced-ae78-7d53baf4a344"
      },
      "outputs": [
        {
          "output_type": "stream",
          "name": "stdout",
          "text": [
            "city\n",
            "Moscow              41892\n",
            "Saint-Petersburg    18234\n",
            "Name: genre_name, dtype: int64\n"
          ]
        }
      ],
      "source": [
        "city_genre_count = df.groupby(\"city\")[\"genre_name\"].count()\n",
        "\n",
        "print(city_genre_count)\n"
      ]
    },
    {
      "cell_type": "markdown",
      "metadata": {
        "id": "qm3dG3vTBY1T"
      },
      "source": [
        "В Москве прослушиваний больше, чем в Санкт-Петербурге, но это не значит, что Москва более активна. У Яндекс.Музыки в целом больше пользователей в Москве, поэтому величины сопоставимы.\n",
        "Сгруппируем данные по дню недели и подсчитаем прослушанные в понедельник, среду и пятницу композиции, для которых известен жанр.\n"
      ]
    },
    {
      "cell_type": "code",
      "execution_count": 18,
      "metadata": {
        "colab": {
          "base_uri": "https://localhost:8080/"
        },
        "id": "qsXy06RBBY1T",
        "outputId": "b07b1f78-0ca8-4477-dc14-0886474c6ee4"
      },
      "outputs": [
        {
          "output_type": "stream",
          "name": "stdout",
          "text": [
            "day_of_week\n",
            "Friday       21482\n",
            "Monday       20866\n",
            "Wednesday    17778\n",
            "Name: genre_name, dtype: int64\n"
          ]
        }
      ],
      "source": [
        "weekday_genre_count = df.groupby(\"day_of_week\")[\"genre_name\"].count()\n",
        "\n",
        "print(weekday_genre_count)"
      ]
    },
    {
      "cell_type": "markdown",
      "metadata": {
        "id": "nWJRy-hrBY1T"
      },
      "source": [
        "Понедельник и пятница — время для музыки; по средам пользователи немного больше вовлечены в работу.\n",
        "\n",
        "Создаём функцию number_tracks(), которая принимает как параметры таблицу, день недели и название города, а возвращает количество прослушанных композиций, для которых известен жанр. Проверяем количество прослушанных композиций для каждого города и понедельника, затем среды и пятницы.\n"
      ]
    },
    {
      "cell_type": "code",
      "execution_count": 19,
      "metadata": {
        "id": "jfcitF9iBY1T"
      },
      "outputs": [],
      "source": [
        "def number_tracks(df, day, city):\n",
        "    track_list = df[(df[\"day_of_week\"] == day) & (df[\"city\"] == city)]\n",
        "    track_list_count = track_list[\"genre_name\"].count()\n",
        "    return track_list_count"
      ]
    },
    {
      "cell_type": "code",
      "execution_count": 20,
      "metadata": {
        "colab": {
          "base_uri": "https://localhost:8080/"
        },
        "id": "vd0Y99ZJBY1T",
        "outputId": "1f0e5cd0-69dd-406e-a7a8-debc6c1c32f5"
      },
      "outputs": [
        {
          "output_type": "stream",
          "name": "stdout",
          "text": [
            "Москва, Monday: 15347\n"
          ]
        }
      ],
      "source": [
        "print(\"Москва, Monday:\", number_tracks(df, \"Monday\",\"Moscow\"))"
      ]
    },
    {
      "cell_type": "code",
      "execution_count": 21,
      "metadata": {
        "colab": {
          "base_uri": "https://localhost:8080/"
        },
        "id": "2tebLAIbBY1T",
        "outputId": "83e3962a-ebf6-400d-d5d0-e3aabe42b37d"
      },
      "outputs": [
        {
          "output_type": "stream",
          "name": "stdout",
          "text": [
            "Санкт-Петербург, Monday: 5519\n"
          ]
        }
      ],
      "source": [
        "print(\"Санкт-Петербург, Monday:\", number_tracks(df, \"Monday\", \"Saint-Petersburg\"))"
      ]
    },
    {
      "cell_type": "code",
      "execution_count": 22,
      "metadata": {
        "colab": {
          "base_uri": "https://localhost:8080/"
        },
        "id": "TNVfXSXyBY1Z",
        "outputId": "a8d8a068-aaa2-48bf-de14-5b1ec31ad4bb"
      },
      "outputs": [
        {
          "output_type": "stream",
          "name": "stdout",
          "text": [
            "Москва, Wednesday: 10865\n"
          ]
        }
      ],
      "source": [
        "print(\"Москва, Wednesday:\",number_tracks(df, \"Wednesday\", \"Moscow\"))"
      ]
    },
    {
      "cell_type": "code",
      "execution_count": 23,
      "metadata": {
        "colab": {
          "base_uri": "https://localhost:8080/"
        },
        "id": "lu501EqLBY1Z",
        "outputId": "3f75c32f-9d5f-468f-f049-6854700ca4cf"
      },
      "outputs": [
        {
          "output_type": "stream",
          "name": "stdout",
          "text": [
            "Санкт-Петербург (Saint-Petersburg), Wednesday: 6913\n"
          ]
        }
      ],
      "source": [
        "print(\"Санкт-Петербург (Saint-Petersburg), Wednesday:\", number_tracks(df, \"Wednesday\", \"Saint-Petersburg\"))"
      ]
    },
    {
      "cell_type": "code",
      "execution_count": 24,
      "metadata": {
        "colab": {
          "base_uri": "https://localhost:8080/"
        },
        "id": "BP2QmA9YBY1Z",
        "outputId": "8043da64-83fd-435f-f0d3-7ddbd2abe6cb"
      },
      "outputs": [
        {
          "output_type": "stream",
          "name": "stdout",
          "text": [
            "Москва (Moscow), Friday: 15680\n"
          ]
        }
      ],
      "source": [
        "print(\"Москва (Moscow), Friday:\", number_tracks(df, \"Friday\", \"Moscow\"))"
      ]
    },
    {
      "cell_type": "code",
      "execution_count": 25,
      "metadata": {
        "colab": {
          "base_uri": "https://localhost:8080/"
        },
        "id": "jIAuYamMBY1Z",
        "outputId": "7ca55cf8-ea5d-4c5c-9fde-fed72098cee7"
      },
      "outputs": [
        {
          "output_type": "stream",
          "name": "stdout",
          "text": [
            "Санкт-Петербург, Friday: 5802\n"
          ]
        }
      ],
      "source": [
        "print(\"Санкт-Петербург, Friday:\", number_tracks(df, \"Friday\", \"Saint-Petersburg\"))"
      ]
    },
    {
      "cell_type": "markdown",
      "metadata": {
        "id": "ZR2auvxHBY1Z"
      },
      "source": [
        "Сведём полученную информацию в одну таблицу, где ['city', 'monday', 'wednesday', 'friday'] названия столбцов."
      ]
    },
    {
      "cell_type": "code",
      "execution_count": 26,
      "metadata": {
        "colab": {
          "base_uri": "https://localhost:8080/"
        },
        "id": "94d4ezYBBY1b",
        "outputId": "8cd24cb2-4403-4656-8dc7-954dee9701e9"
      },
      "outputs": [
        {
          "output_type": "stream",
          "name": "stdout",
          "text": [
            "               city  monday  wednesday  friday\n",
            "0            Moscow   15347      10865   15680\n",
            "1  Saint-Petersburg    5519       6913    5802\n"
          ]
        }
      ],
      "source": [
        "import pandas as pd\n",
        "\n",
        "data = {\n",
        "    \"city\": [\"Moscow\", \"Saint-Petersburg\"],\n",
        "    \"monday\": [\n",
        "        number_tracks(df, \"Monday\", \"Moscow\"),\n",
        "        number_tracks(df, \"Monday\", \"Saint-Petersburg\"),\n",
        "    ],\n",
        "    \"wednesday\": [\n",
        "        number_tracks(df, \"Wednesday\", \"Moscow\"),\n",
        "        number_tracks(df, \"Wednesday\", \"Saint-Petersburg\"),\n",
        "    ],\n",
        "    \"friday\": [\n",
        "        number_tracks(df, \"Friday\", \"Moscow\"),\n",
        "        number_tracks(df, \"Friday\", \"Saint-Petersburg\"),\n",
        "    ],\n",
        "}\n",
        "\n",
        "summary_table = pd.DataFrame(data)\n",
        "print(summary_table)"
      ]
    },
    {
      "cell_type": "markdown",
      "metadata": {
        "id": "WT20xWpHBY1b"
      },
      "source": [
        "## Вывод\n",
        "\n",
        "В Москве пик в понедельник и в пятницу, среда заметно ниже.\n",
        "\n",
        "А Санкт-Петербург наоборот."
      ]
    },
    {
      "cell_type": "markdown",
      "metadata": {
        "id": "XP9wXIvMBY1b"
      },
      "source": [
        "# Утро понедельника и вечер пятницы — разная музыка или одна и та же?\n",
        "\n",
        "Ищем ответ на вопрос, какие жанры преобладают в разных городах в понедельник утром и в пятницу вечером. Есть предположение, что в понедельник утром пользователи слушают больше бодрящей музыки (например, жанра поп), а вечером пятницы — больше танцевальных (например, электронику).\n",
        "Получим таблицы данных по Москве moscow_general и по Санкт-Петербургу spb_general.\n"
      ]
    },
    {
      "cell_type": "code",
      "execution_count": 27,
      "metadata": {
        "colab": {
          "base_uri": "https://localhost:8080/"
        },
        "id": "hw4dEP13BY1b",
        "outputId": "a73cf302-c44c-4228-f107-2eb543c30694"
      },
      "outputs": [
        {
          "output_type": "stream",
          "name": "stdout",
          "text": [
            "Москва: (41892, 7)\n",
            "Санкт-Петербург: (18234, 7)\n"
          ]
        }
      ],
      "source": [
        "moscow_general = df[df[\"city\"] == \"Moscow\"]\n",
        "\n",
        "spb_general = df[df[\"city\"] == \"Saint-Petersburg\"]\n",
        "\n",
        "print(\"Москва:\", moscow_general.shape)\n",
        "print(\"Санкт-Петербург:\", spb_general.shape)\n"
      ]
    },
    {
      "cell_type": "markdown",
      "metadata": {
        "id": "TWbxX9WfBY1b"
      },
      "source": [
        "Создаём функцию genre_weekday(), которая возвращает список жанров по запрошенному дню недели и времени суток с такого-то часа по такой-то."
      ]
    },
    {
      "cell_type": "code",
      "execution_count": 30,
      "metadata": {
        "id": "e61XlNOaBY1b"
      },
      "outputs": [],
      "source": [
        "import pandas as pd\n",
        "import numpy as np\n",
        "\n",
        "def _ensure_hour(series):\n",
        "    if pd.api.types.is_numeric_dtype(series):\n",
        "        return pd.to_numeric(series, errors=\"coerce\").astype(\"float\")\n",
        "\n",
        "    def parse_hour(x):\n",
        "        if pd.isna(x):\n",
        "            return np.nan\n",
        "        s = str(x).strip()\n",
        "        if \":\" in s:\n",
        "            parts = s.split(\":\")\n",
        "            try:\n",
        "                h = int(parts[0])\n",
        "                return float(h)\n",
        "            except:\n",
        "                return np.nan\n",
        "        try:\n",
        "            return float(s)\n",
        "        except:\n",
        "            return np.nan\n",
        "\n",
        "    return series.map(parse_hour)\n",
        "\n",
        "def genre_weekday(df, day, time1, time2):\n",
        "    tmp = df.loc[:, [\"day_of_week\", \"timestamp\", \"genre_name\"]].copy()\n",
        "\n",
        "    tmp[\"hour\"] = _ensure_hour(tmp[\"timestamp\"])\n",
        "\n",
        "    mask = (tmp[\"day_of_week\"] == day) & (tmp[\"hour\"].notna()) & (tmp[\"hour\"] > time1) & (tmp[\"hour\"] < time2)\n",
        "\n",
        "    filtered = tmp.loc[mask].copy()\n",
        "    filtered = filtered[filtered[\"genre_name\"].notna()]\n",
        "\n",
        "    counts = filtered.groupby(\"genre_name\")[\"genre_name\"].count()\n",
        "    counts_sorted = counts.sort_values(ascending=False)\n",
        "\n",
        "    return counts_sorted.head(10)"
      ]
    },
    {
      "cell_type": "markdown",
      "metadata": {
        "id": "yXctiDclBY1b"
      },
      "source": [
        "Cравниваем полученные результаты по таблице для Москвы и Санкт-Петербурга в понедельник утром (с 7 до 11) и в пятницу вечером (с 17 до 23)."
      ]
    },
    {
      "cell_type": "code",
      "execution_count": 31,
      "metadata": {
        "id": "oX2ZPW0ABY1b",
        "colab": {
          "base_uri": "https://localhost:8080/"
        },
        "outputId": "b054bf93-d496-4183-eeec-49d199f56e64"
      },
      "outputs": [
        {
          "output_type": "stream",
          "name": "stdout",
          "text": [
            "Москва — понедельник утром (7-11):\n",
            "genre_name\n",
            "pop            781\n",
            "dance          549\n",
            "electronic     480\n",
            "rock           474\n",
            "hip            281\n",
            "ruspop         186\n",
            "world          181\n",
            "rusrap         175\n",
            "alternative    164\n",
            "classical      157\n",
            "Name: genre_name, dtype: int64\n"
          ]
        }
      ],
      "source": [
        "moscow_mon_morning_7_11 = genre_weekday(moscow_general, \"Monday\", 7, 11)\n",
        "print(\"Москва — понедельник утром (7-11):\")\n",
        "print(moscow_mon_morning_7_11)"
      ]
    },
    {
      "cell_type": "code",
      "execution_count": 32,
      "metadata": {
        "id": "fpbdrczABY1b",
        "colab": {
          "base_uri": "https://localhost:8080/"
        },
        "outputId": "60c1cb2b-f931-4cf2-f5de-a75f89d74141"
      },
      "outputs": [
        {
          "output_type": "stream",
          "name": "stdout",
          "text": [
            "\n",
            "Санкт-Петербург — понедельник утром (7-11):\n",
            "genre_name\n",
            "pop            218\n",
            "dance          182\n",
            "rock           162\n",
            "electronic     147\n",
            "hip             79\n",
            "ruspop          64\n",
            "alternative     58\n",
            "rusrap          55\n",
            "jazz            44\n",
            "classical       40\n",
            "Name: genre_name, dtype: int64\n"
          ]
        }
      ],
      "source": [
        "spb_mon_morning_7_11 = genre_weekday(spb_general, \"Monday\", 7, 11)\n",
        "print(\"\\nСанкт-Петербург — понедельник утром (7-11):\")\n",
        "print(spb_mon_morning_7_11)"
      ]
    },
    {
      "cell_type": "code",
      "execution_count": 33,
      "metadata": {
        "id": "fPPovmHlBY1c",
        "colab": {
          "base_uri": "https://localhost:8080/"
        },
        "outputId": "b6512073-fd9d-4145-bee1-b1f4c405a758"
      },
      "outputs": [
        {
          "output_type": "stream",
          "name": "stdout",
          "text": [
            "\n",
            "Москва — пятница вечером (17-23):\n",
            "genre_name\n",
            "pop            713\n",
            "rock           517\n",
            "dance          495\n",
            "electronic     482\n",
            "hip            267\n",
            "world          208\n",
            "ruspop         170\n",
            "alternative    163\n",
            "classical      163\n",
            "rusrap         142\n",
            "Name: genre_name, dtype: int64\n"
          ]
        }
      ],
      "source": [
        "moscow_fri_evening_17_23 = genre_weekday(moscow_general, \"Friday\", 17, 23)\n",
        "print(\"\\nМосква — пятница вечером (17-23):\")\n",
        "print(moscow_fri_evening_17_23)"
      ]
    },
    {
      "cell_type": "code",
      "execution_count": 34,
      "metadata": {
        "id": "WgdY7BmeBY1c",
        "colab": {
          "base_uri": "https://localhost:8080/"
        },
        "outputId": "19665537-7609-4b81-aab5-63c623660e98"
      },
      "outputs": [
        {
          "output_type": "stream",
          "name": "stdout",
          "text": [
            "\n",
            "Санкт-Петербург — пятница вечером (17-23):\n",
            "genre_name\n",
            "pop            256\n",
            "rock           216\n",
            "electronic     216\n",
            "dance          210\n",
            "hip             94\n",
            "alternative     63\n",
            "jazz            61\n",
            "classical       60\n",
            "rusrap          59\n",
            "world           54\n",
            "Name: genre_name, dtype: int64\n"
          ]
        }
      ],
      "source": [
        "spb_fri_evening_17_23 = genre_weekday(spb_general, \"Friday\", 17, 23)\n",
        "print(\"\\nСанкт-Петербург — пятница вечером (17-23):\")\n",
        "print(spb_fri_evening_17_23)"
      ]
    },
    {
      "cell_type": "markdown",
      "metadata": {
        "id": "3jtyk2oWBY1c"
      },
      "source": [
        "Популярные жанры в понедельник утром в Питере и Москве оказались похожи: везде, как и предполагалось, популярен Поп. Несмотря на это, концовка топ-10 для двух городов различается: в Питере в топ-10 входит джаз и русский рэп, а в Москве жанр world.\n",
        "\n",
        "В целом, к концу недели ситуация не сильно меняется. Для Питера из топ-10 выпадает жанр ruspop, вместо него приходить world. Для москва нет сильных изменений, dance и electronic поднимаются по топу, обозначая конец рабочей недели.\n",
        "\n",
        "## Вывод\n",
        "Жанр pop безусловный лидер, а топ-5 в целом не различается в обеих столицах. При этом видно, что концовка списка более «живая»: для каждого города выделяются более характерные жанры, которые действительно меняют свои позиции в зависимости от дня недели и времени."
      ]
    },
    {
      "cell_type": "markdown",
      "metadata": {
        "id": "G5ETJwyVBY1c"
      },
      "source": [
        "# Москва и Питер — две разные столицы, два разных направления в музыке. Правда?\n",
        "\n",
        "Гипотеза: Питер богат своей рэп-культурой, поэтому это направление там слушают чаще, а Москва — город контрастов, но основная масса пользователей слушает попсу.\n",
        "\n",
        "Сгруппируем таблицу moscow_general по жанру, сосчитаем численность композиций каждого жанра методом count(), отсортируем в порядке убывания и сохраним результат в таблице moscow_genres.\n",
        "\n",
        "Просмотрим первые 10 строк этой новой таблицы.\n"
      ]
    },
    {
      "cell_type": "code",
      "execution_count": 35,
      "metadata": {
        "id": "azj37hP2BY1c"
      },
      "outputs": [],
      "source": [
        "moscow_genres = moscow_general.groupby(\"genre_name\")[\"genre_name\"].count().sort_values(ascending=False)"
      ]
    },
    {
      "cell_type": "code",
      "execution_count": 36,
      "metadata": {
        "id": "AItEhP60BY1c",
        "colab": {
          "base_uri": "https://localhost:8080/"
        },
        "outputId": "41636a0e-6d06-44d6-95c0-d7cb24e7239d"
      },
      "outputs": [
        {
          "output_type": "stream",
          "name": "stdout",
          "text": [
            "genre_name\n",
            "pop            5892\n",
            "dance          4435\n",
            "rock           3965\n",
            "electronic     3786\n",
            "hip            2041\n",
            "classical      1616\n",
            "world          1432\n",
            "alternative    1379\n",
            "ruspop         1372\n",
            "rusrap         1161\n",
            "Name: genre_name, dtype: int64\n"
          ]
        }
      ],
      "source": [
        "print(moscow_genres.head(10))"
      ]
    },
    {
      "cell_type": "markdown",
      "metadata": {
        "id": "Fvz4M5r-BY1d"
      },
      "source": [
        "Сгруппируем таблицу spb_general по жанру, сосчитаем численность композиций каждого жанра методом count(), отсортируем в порядке убывания и сохраним результат в таблице spb_genres.\n",
        "\n",
        "Просматриваем первые 10 строк этой таблицы. Теперь можно сравнивать два города.\n"
      ]
    },
    {
      "cell_type": "code",
      "execution_count": 37,
      "metadata": {
        "id": "dBjOTdMgBY1d"
      },
      "outputs": [],
      "source": [
        "spb_genres = spb_general.groupby(\"genre_name\")[\"genre_name\"].count().sort_values(ascending=False)"
      ]
    },
    {
      "cell_type": "code",
      "execution_count": 38,
      "metadata": {
        "id": "zq0o9z8dBY1d",
        "colab": {
          "base_uri": "https://localhost:8080/"
        },
        "outputId": "b4554cdb-ca19-4479-bf9c-8c6e0d27bdf7"
      },
      "outputs": [
        {
          "output_type": "stream",
          "name": "stdout",
          "text": [
            "genre_name\n",
            "pop            2431\n",
            "dance          1932\n",
            "rock           1879\n",
            "electronic     1736\n",
            "hip             934\n",
            "alternative     649\n",
            "classical       646\n",
            "rusrap          564\n",
            "ruspop          538\n",
            "world           515\n",
            "Name: genre_name, dtype: int64\n"
          ]
        }
      ],
      "source": [
        "print(spb_genres.head(10))"
      ]
    },
    {
      "cell_type": "markdown",
      "metadata": {
        "id": "BtpAhTLLBY1d"
      },
      "source": [
        "## Вывод\n",
        "В Москве, кроме абсолютно популярного жанра поп, есть направление русской популярной музыки. Значит, что интерес к этому жанру шире. А рэп, вопреки предположению, занимает в обоих городах близкие позиции.\n"
      ]
    },
    {
      "cell_type": "markdown",
      "metadata": {
        "id": "aD7SxCW1BY1d"
      },
      "source": [
        "# Результаты исследования\n",
        "\n",
        "Рабочие гипотезы:\n",
        "\n",
        "•\tмузыку в двух городах — Москве и Санкт-Петербурге — слушают в разном режиме;\n",
        "\n",
        "•\tсписки десяти самых популярных жанров утром в понедельник и вечером в пятницу имеют характерные отличия;\n",
        "\n",
        "•\tнаселение двух городов предпочитает разные музыкальные жанры.\n",
        "\n",
        "**Общие результаты**\n",
        "\n",
        "Москва и Петербург сходятся во вкусах: везде преобладает популярная музыка. При этом зависимости предпочтений от дня недели в каждом отдельном городе нет — люди постоянно слушают то, что им нравится. Но между городами в разрезе дней неделей наблюдается зеркальность относительно среды: Москва больше слушает в понедельник и пятницу, а Петербург наоборот - больше в среду, но меньше в понедельник и пятницу.\n",
        "В результате первая гипотеза подтверждена , вторая гипотеза не подтверждена и третья не подтверждена\n"
      ]
    }
  ],
  "metadata": {
    "kernelspec": {
      "display_name": "Python 3 (ipykernel)",
      "language": "python",
      "name": "python3"
    },
    "language_info": {
      "codemirror_mode": {
        "name": "ipython",
        "version": 3
      },
      "file_extension": ".py",
      "mimetype": "text/x-python",
      "name": "python",
      "nbconvert_exporter": "python",
      "pygments_lexer": "ipython3",
      "version": "3.9.12"
    },
    "colab": {
      "provenance": []
    }
  },
  "nbformat": 4,
  "nbformat_minor": 0
}